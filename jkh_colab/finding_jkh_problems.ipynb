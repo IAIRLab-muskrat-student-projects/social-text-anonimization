{
  "cells": [
    {
      "cell_type": "code",
      "execution_count": null,
      "metadata": {
        "colab": {
          "base_uri": "https://localhost:8080/"
        },
        "id": "pfqgF4enmUoW",
        "outputId": "55aa3037-697d-4ae3-9e12-73c8e6660cbd"
      },
      "outputs": [
        {
          "name": "stdout",
          "output_type": "stream",
          "text": [
            "Downloading...\n",
            "From: https://drive.google.com/uc?id=114jOepwvcfAxa--w9SoJjucaz4TeAHpD\n",
            "To: /content/candidates_posts.csv\n",
            "100% 5.39M/5.39M [00:00<00:00, 249MB/s]\n",
            "Collecting openai\n",
            "  Downloading openai-0.27.8-py3-none-any.whl (73 kB)\n",
            "\u001b[2K     \u001b[90m━━━━━━━━━━━━━━━━━━━━━━━━━━━━━━━━━━━━━━━━\u001b[0m \u001b[32m73.6/73.6 kB\u001b[0m \u001b[31m2.5 MB/s\u001b[0m eta \u001b[36m0:00:00\u001b[0m\n",
            "\u001b[?25hCollecting backoff\n",
            "  Downloading backoff-2.2.1-py3-none-any.whl (15 kB)\n",
            "Requirement already satisfied: geopy in /usr/local/lib/python3.10/dist-packages (2.3.0)\n",
            "Requirement already satisfied: requests>=2.20 in /usr/local/lib/python3.10/dist-packages (from openai) (2.27.1)\n",
            "Requirement already satisfied: tqdm in /usr/local/lib/python3.10/dist-packages (from openai) (4.65.0)\n",
            "Requirement already satisfied: aiohttp in /usr/local/lib/python3.10/dist-packages (from openai) (3.8.4)\n",
            "Requirement already satisfied: geographiclib<3,>=1.52 in /usr/local/lib/python3.10/dist-packages (from geopy) (2.0)\n",
            "Requirement already satisfied: urllib3<1.27,>=1.21.1 in /usr/local/lib/python3.10/dist-packages (from requests>=2.20->openai) (1.26.16)\n",
            "Requirement already satisfied: certifi>=2017.4.17 in /usr/local/lib/python3.10/dist-packages (from requests>=2.20->openai) (2023.5.7)\n",
            "Requirement already satisfied: charset-normalizer~=2.0.0 in /usr/local/lib/python3.10/dist-packages (from requests>=2.20->openai) (2.0.12)\n",
            "Requirement already satisfied: idna<4,>=2.5 in /usr/local/lib/python3.10/dist-packages (from requests>=2.20->openai) (3.4)\n",
            "Requirement already satisfied: attrs>=17.3.0 in /usr/local/lib/python3.10/dist-packages (from aiohttp->openai) (23.1.0)\n",
            "Requirement already satisfied: multidict<7.0,>=4.5 in /usr/local/lib/python3.10/dist-packages (from aiohttp->openai) (6.0.4)\n",
            "Requirement already satisfied: async-timeout<5.0,>=4.0.0a3 in /usr/local/lib/python3.10/dist-packages (from aiohttp->openai) (4.0.2)\n",
            "Requirement already satisfied: yarl<2.0,>=1.0 in /usr/local/lib/python3.10/dist-packages (from aiohttp->openai) (1.9.2)\n",
            "Requirement already satisfied: frozenlist>=1.1.1 in /usr/local/lib/python3.10/dist-packages (from aiohttp->openai) (1.3.3)\n",
            "Requirement already satisfied: aiosignal>=1.1.2 in /usr/local/lib/python3.10/dist-packages (from aiohttp->openai) (1.3.1)\n"
          ]
        }
      ],
      "source": [
        "# файл candidates_posts.csv, в данных не сохранился, но результат работы данного ноутбука\n",
        "# сохранен в файле candidates_posts_labelled в jkh_groups_data.tar.gz\n",
        "!gdown 114jOepwvcfAxa--w9SoJjucaz4TeAHpD\n",
        "\n",
        "!pip install openai backoff geopy"
      ]
    },
    {
      "cell_type": "code",
      "execution_count": null,
      "metadata": {
        "id": "W13DxJmBmeOg"
      },
      "outputs": [],
      "source": [
        "import os\n",
        "import json\n",
        "import concurrent.futures\n",
        "\n",
        "import openai\n",
        "from openai.error import RateLimitError\n",
        "import backoff\n",
        "import pandas as pd\n",
        "from tqdm import tqdm"
      ]
    },
    {
      "cell_type": "code",
      "execution_count": null,
      "metadata": {
        "id": "s2nT5NNCpI0x"
      },
      "outputs": [],
      "source": [
        "df = pd.read_csv('/content/candidates_posts.csv')"
      ]
    },
    {
      "cell_type": "code",
      "execution_count": null,
      "metadata": {
        "id": "33X0FJAtp2Ro"
      },
      "outputs": [],
      "source": [
        "# тут ключ от openai, на бесплатном скорее всего жесткий лимит\n",
        "# на количество запросов в секунду, так что нужен платный\n",
        "openai.api_key = \"...\""
      ]
    },
    {
      "cell_type": "code",
      "execution_count": null,
      "metadata": {
        "id": "vFHXVEyrqCXF"
      },
      "outputs": [],
      "source": [
        "# системный промпт\n",
        "# промпт можно доработать, так как gpt часто добавляет отсебятину, \n",
        "# если попросить отвечать в формате json, то должно быть лучше\n",
        "# для экономии токенов можно перевести промпт на английский язык\n",
        "address_extraction_template = 'Проверь указана ли в тексте проблема, связанная с работой ЖКХ, например, свалка, недостаточное освещение,'\\\n",
        "                              ' плохие дороги и т.п. Отвечай только одним словом: ДА или НЕТ. Если текст является рекламой чего-либо'\\\n",
        "                              ' или в тексте указан номер телефона, то отвечай НЕТ.'"
      ]
    },
    {
      "cell_type": "code",
      "execution_count": null,
      "metadata": {
        "id": "tSeCe8zkq2yQ"
      },
      "outputs": [],
      "source": [
        "exmpl = \"\"\"🌟Детский центр \"Яркие дети\" приглашает в летнюю школу \"Формула успеха\"!🌟Эта программа для вас, если вы остаётесь в городе и хотите, чтобы ваш ребенок:\n",
        "👉Восстановил силы после учебы и провел увлекательно время без гаджетов\n",
        "👉Расширил свой кругозор, подтянулся в чтении, освоил азы быстрого счета и приемы эффективного запоминания\n",
        "👉Освоил навыки работы в команде, нашел новых друзей\n",
        "\n",
        "Ребят ждёт:\n",
        "1⃣Знакомство с яркими и увлекательными биографиями великих людей! Их восхождение к успеху, детство, интересы и увлечения помогут ребенку понять важность знаний, научат достигать высоких целей, преодолевать трудности, не сдаваться и верить в успех.\n",
        "\n",
        "2⃣Интенсивные занятия по нескольким дисциплинам\n",
        "Скорочтение, развитие памяти, коммуникативные тренинги, творческие мастер-классы, интеллектуальные игры, квесты, викторины, состязания и т.п.\n",
        "\n",
        "3⃣Здоровое питание, прогулки на свежем воздухе, выездные мероприятия и экскурсии\n",
        "Ежедневные 2-часовые прогулки, активные игры, футбольные матчи, выездные мероприятия (театры, музеи, выставки)\n",
        "\n",
        "🧒👧🏼Возраст\n",
        "7-12 лет\n",
        "🥗Питание\n",
        "3-х разовое - второй завтрак, полноценный обед, полдник\n",
        "⏰Время пребывания\n",
        "с 8:30 до 17:30\n",
        "🏕Наши смены\n",
        "29.05 - 18.06\n",
        "19.06 - 09.07\n",
        "10.07 - 30.07\n",
        "31.07 - 20.08\n",
        "\n",
        "Записывайтесь по телефону 📲 8(969) 210-61-66\n",
        "📍Наш адрес: Петровский бульвар 5, вход с торца здания.\n",
        "📍Наш сайт: https://spb.yarkiedeti.ru\n",
        "📍Наша группа в ВК: https://vk.com/yarkie_deti_mur\n",
        "⠀\n",
        "#яркиедети #яркиедети_СПб #Муриноразвитие #летнийлагерь #каникулы #летодетям #летниеканикулы #развивающийцентр #детскийцентр #лепка #изо #лего #английскийязык #выходной #дляребенка #эмоциональныйинтеллект #литературныйклуб #Девяткинодетям\"\"\""
      ]
    },
    {
      "cell_type": "code",
      "execution_count": null,
      "metadata": {
        "id": "flEfQvCW8UJo"
      },
      "outputs": [],
      "source": [
        "# защита от пустых строк\n",
        "def safe_str(s: str or None or float):\n",
        "    return s if type(s) == str else ''"
      ]
    },
    {
      "cell_type": "code",
      "execution_count": null,
      "metadata": {
        "id": "zEv5sKhAIqtv"
      },
      "outputs": [],
      "source": [
        "# защита от ratelimit, когда сервис возвращает ошибку RateLimitError, то это значит,\n",
        "# что случился ratelimit, надо подождать какое-то время, декоратор @backoff.on_exception\n",
        "# позволяет на каждую ошибку RateLimitError автоматически ждать n секунд, затем пробовать\n",
        "# сделать вызов опять, при этом время паузы увеличивается по экспоненте\n",
        "@backoff.on_exception(backoff.expo, RateLimitError)\n",
        "def completions_with_backoff(**kwargs):\n",
        "    response = openai.ChatCompletion.create(**kwargs)\n",
        "    return response"
      ]
    },
    {
      "cell_type": "code",
      "execution_count": null,
      "metadata": {
        "colab": {
          "base_uri": "https://localhost:8080/"
        },
        "id": "x1aVnT-Zrd_F",
        "outputId": "1b34705d-10bc-4a3d-8a5c-204b94870073"
      },
      "outputs": [
        {
          "name": "stderr",
          "output_type": "stream",
          "text": [
            "100%|██████████| 6/6 [19:32<00:00, 195.45s/it]\n"
          ]
        }
      ],
      "source": [
        "# функция для использования gpt\n",
        "# если в тексте больше max_text_threshold символов, он обрезается до нужной длины\n",
        "# если текст слишком маленький, то в нем просто не может быть описана нормальная\n",
        "# какая-либо ЖКХ проблема\n",
        "\n",
        "short_text_threshold = 10\n",
        "too_long_threshold = 1000\n",
        "batch_size = 500\n",
        "\n",
        "\n",
        "def task(text):\n",
        "    text = safe_str(text)\n",
        "    if len(text) < short_text_threshold or len(text) > too_long_threshold:\n",
        "        return 'НЕТ.'\n",
        "    messages = [\n",
        "        {\"role\": \"system\", \"content\": address_extraction_template},\n",
        "        {\"role\": \"user\", \"content\": text},\n",
        "    ]\n",
        "    response = completions_with_backoff(model=\"gpt-3.5-turbo\", messages=messages, temperature=0, max_tokens=100)\n",
        "    return response['choices'][0]['message']['content']\n",
        "\n",
        "texts = df.text\n",
        "\n",
        "# делается в несколько потоков для скорости, но если выставить слишком много потоков,\n",
        "# то будет постоянно вылезать ошибка RateLimitError\n",
        "for batch_begin in tqdm(range(0, len(texts), batch_size)):\n",
        "    batch_end = min(batch_begin + batch_size, len(texts))\n",
        "\n",
        "    # results = []\n",
        "    results = [None] * (batch_end - batch_begin)\n",
        "\n",
        "    # for i in range(batch_begin, batch_end):\n",
        "    #     results.append(task(all_posts[i]['text']))\n",
        "\n",
        "    with concurrent.futures.ThreadPoolExecutor(max_workers=2) as executor:\n",
        "        future_to_response = {}\n",
        "        for idx, post in enumerate(texts[batch_begin:batch_end]):\n",
        "            future_to_response[executor.submit(task, post)] = idx\n",
        "    for future in concurrent.futures.as_completed(future_to_response):\n",
        "        idx = future_to_response[future]\n",
        "        results[idx] = future.result()\n",
        "\n",
        "    with open(f'/content/drive/MyDrive/вкр/chatgpt_candidates/batch_{batch_begin}_{batch_end - 1}.json', 'w', encoding='utf-8') as f:\n",
        "        json.dump(results, f)"
      ]
    },
    {
      "cell_type": "code",
      "execution_count": null,
      "metadata": {
        "id": "t_NSsqbkBjCG"
      },
      "outputs": [],
      "source": []
    },
    {
      "cell_type": "code",
      "execution_count": null,
      "metadata": {
        "id": "oISL8dwew7nE"
      },
      "outputs": [],
      "source": [
        "results_dir = '/content/drive/MyDrive/вкр/chatgpt_candidates'\n",
        "\n",
        "filenames = os.listdir(results_dir)\n",
        "filenames.sort(key=lambda x: int(x.split('_')[1]))\n",
        "\n",
        "answers = []\n",
        "for filename in filenames:\n",
        "    with open(os.path.join(results_dir, filename), 'r') as f:\n",
        "        data = json.load(f)\n",
        "    answers.extend(data)"
      ]
    },
    {
      "cell_type": "code",
      "execution_count": null,
      "metadata": {
        "id": "6RDU-gBP9pzo"
      },
      "outputs": [],
      "source": [
        "labels = list(map(lambda x: int(x.startswith('ДА') or x.startswith('Да')), answers))\n",
        "# for i in range(len(all_posts)):\n",
        "#     all_posts[i]['jkh_label'] = labels[i]\n",
        "df['label'] = labels"
      ]
    },
    {
      "cell_type": "code",
      "execution_count": null,
      "metadata": {
        "id": "6D_EbmDG-3S1"
      },
      "outputs": [],
      "source": [
        "# with open('/content/drive/MyDrive/вкр/chatgpt_labelled.json', 'w', encoding='utf-8') as f:\n",
        "#     json.dump(all_posts, f)\n",
        "df.to_csv('/content/drive/MyDrive/вкр/candidates_posts_labelled.csv', sep='|', index=None)"
      ]
    },
    {
      "cell_type": "code",
      "execution_count": null,
      "metadata": {
        "id": "c7QUr9qzJwtN"
      },
      "outputs": [],
      "source": []
    }
  ],
  "metadata": {
    "colab": {
      "provenance": []
    },
    "kernelspec": {
      "display_name": "Python 3",
      "name": "python3"
    },
    "language_info": {
      "name": "python"
    }
  },
  "nbformat": 4,
  "nbformat_minor": 0
}
